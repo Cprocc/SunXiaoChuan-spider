{
 "cells": [
  {
   "cell_type": "code",
   "execution_count": 1,
   "metadata": {
    "ExecuteTime": {
     "end_time": "2019-08-25T08:15:44.027927Z",
     "start_time": "2019-08-25T08:15:43.927197Z"
    }
   },
   "outputs": [],
   "source": [
    "import pymongo\n",
    "import re\n",
    "\n",
    "client = pymongo.MongoClient(host='localhost', port=27017)\n",
    "sina = client['Sina']\n",
    "comments = sina['Comments']"
   ]
  },
  {
   "cell_type": "code",
   "execution_count": 2,
   "metadata": {
    "ExecuteTime": {
     "end_time": "2019-08-25T08:15:44.040892Z",
     "start_time": "2019-08-25T08:15:44.031919Z"
    }
   },
   "outputs": [
    {
     "name": "stdout",
     "output_type": "stream",
     "text": [
      "['[汉堡]', '[汉堡]', '[台球]']\n"
     ]
    }
   ],
   "source": [
    "#s_at = '回复@*@重光精神病院保安铁胆*@:@*@*@*@*@*@*@*@*@*@*@*@*@*@*@*@*@共青团中央*@*@*@*@*@*@*@*@*@*@*@*@*@*@*@*@  @*@*@*@*@*@*@*@*@*@*@*@*@*@*@*@*@共青团中央*@*@*@*@*@*@*@*@*@*@*@*@*@*@*@*@'\n",
    "#print(re.findall('[^回复@]@\\*(\\S+?)\\*@', s_at))\n",
    "\n",
    "s_emoji = '[汉堡][汉堡]。可以了[台球]'\n",
    "print(re.findall('\\[\\S*?\\]', s_emoji))"
   ]
  },
  {
   "cell_type": "code",
   "execution_count": 3,
   "metadata": {
    "ExecuteTime": {
     "end_time": "2019-08-25T08:15:44.080794Z",
     "start_time": "2019-08-25T08:15:44.045880Z"
    }
   },
   "outputs": [],
   "source": [
    "#emoji unicode: https://apps.timwhitlock.info/emoji/tables/unicode\n",
    "import regex\n",
    "import emoji\n",
    "flags = [\n",
    "    b'\\xF0\\x9F\\x87\\xA9\\xF0\\x9F\\x87\\xAA',\n",
    "    b'\\xF0\\x9F\\x87\\xAC\\xF0\\x9F\\x87\\xA7',\n",
    "    b'\\xF0\\x9F\\x87\\xA8\\xF0\\x9F\\x87\\xB3',\n",
    "    b'\\xF0\\x9F\\x87\\xAF\\xF0\\x9F\\x87\\xB5',\n",
    "    b'\\xF0\\x9F\\x87\\xAB\\xF0\\x9F\\x87\\xB7',\n",
    "    b'\\xF0\\x9F\\x87\\xB0\\xF0\\x9F\\x87\\xB7',\n",
    "    b'\\xF0\\x9F\\x87\\xAA\\xF0\\x9F\\x87\\xB8',\n",
    "    b'\\xF0\\x9F\\x87\\xAE\\xF0\\x9F\\x87\\xB9',\n",
    "    b'\\xF0\\x9F\\x87\\xB7\\xF0\\x9F\\x87\\xBA',\n",
    "    b'\\xF0\\x9F\\x87\\xBA\\xF0\\x9F\\x87\\xB8',\n",
    "]\n",
    "flags = [f.decode() for f in flags]  #convert to string\n",
    "\n",
    "\n",
    "def count_emoji(text, flags):\n",
    "    #Based on https://stackoverflow.com/a/49242754\n",
    "    #flags unicode: https://apps.timwhitlock.info/emoji/tables/unicode\n",
    "\n",
    "    emoji_count = {}\n",
    "    #find flags first\n",
    "    for f in flags:\n",
    "        if text.count(f) > 0:\n",
    "            emoji_count[f] = text.count(f)\n",
    "            #emoji_count['contain'] = 1\n",
    "\n",
    "    #find single unicode emoji\n",
    "    data = regex.findall(r'\\X', text)\n",
    "    for word in data:\n",
    "        if any(char in emoji.UNICODE_EMOJI for char in word):\n",
    "            if word in emoji_count:\n",
    "                emoji_count[word] += 1\n",
    "            else:\n",
    "                emoji_count[word] = 1\n",
    "            #emoji_count['contain'] = 1\n",
    "    return emoji_count\n",
    "\n",
    "\n",
    "def merge_two_dicts(x, y):\n",
    "    return {k: x.get(k, 0) + y.get(k, 0) for k in set(x) | set(y)}"
   ]
  },
  {
   "cell_type": "code",
   "execution_count": 4,
   "metadata": {
    "ExecuteTime": {
     "end_time": "2019-08-25T08:15:44.086782Z",
     "start_time": "2019-08-25T08:15:44.081796Z"
    }
   },
   "outputs": [
    {
     "name": "stdout",
     "output_type": "stream",
     "text": [
      "🇨🇳\n",
      "{'🤔': 1, '🙈': 1, '😌': 1, '💕': 1, '👭': 1, '👙': 1, '👩🏾\\u200d🎓': 1, '👨\\u200d👩\\u200d👦\\u200d👦': 1, '😊': 1, '🙅🏽': 2}\n"
     ]
    }
   ],
   "source": [
    "print(b'\\xF0\\x9F\\x87\\xA8\\xF0\\x9F\\x87\\xB3'.decode())\n",
    "emoji_list = count_emoji(\"🤔 🙈 me así, se 😌 ds 💕👭👙 hello 👩🏾‍🎓 emoji hello 👨‍👩‍👦‍👦 how are 😊 you today🙅🏽🙅🏽\",flags)\n",
    "print(emoji_list)"
   ]
  },
  {
   "cell_type": "code",
   "execution_count": 6,
   "metadata": {
    "ExecuteTime": {
     "end_time": "2019-08-25T08:16:12.051296Z",
     "start_time": "2019-08-25T08:15:57.979926Z"
    }
   },
   "outputs": [
    {
     "name": "stdout",
     "output_type": "stream",
     "text": [
      "1269516\n",
      "[('@带带大师兄', 10754), ('@蔡徐坤', 10363), ('@共青团中央', 2315), ('@紫光阁', 1841), ('@Mr_凡先生', 1802), ('@查看图片', 934), ('@首都网警', 866), ('@平安成都', 844), ('@我都想笑了', 843), ('@人民日报', 793), ('@嗯扫', 774), ('@释明空法师', 773), ('@嗯冲丶', 677), ('@edc陳冠希', 581), ('@出处君', 522), ('@六小龄童', 503), ('@蔡徐坤女粉', 502), ('@新华社中国网事', 490), ('@基督中文', 458), ('@中国反邪教', 442), ('@吴亦凡', 441), ('@带带大开罗', 376), ('@平安中国', 373), ('@观察者网', 355), ('@国家网信办举报中心', 317), ('@央视新闻', 308), ('@平安', 278), ('@edc599', 260), ('@李老八已婚', 245), ('@平安北京', 237), ('@中华女德', 237), ('@清华大学', 234), ('@RestlessBreeze', 232), ('@菜籽油反黑组', 229), ('@平安击毙', 227), ('@观音桥毕加索', 212), ('@我在你的黑名单呢', 211), ('@四周垒起围墙', 204), ('@北京大学', 193), ('@平安日本', 185), ('@-妖_妖-', 185), ('@冯提莫', 168), ('@邋遢大王钲超', 157), ('@我能不能别睡了', 157), ('@蔡徐坤的奶瓶', 150), ('@三分青年儿', 148), ('@李漂亮是你的倾国倾城小猫咪啊', 142), ('@小麻扣', 141), ('@薛之谦', 140), ('@M鹿M', 136), ('@蔡徐坤全球粉丝后援会', 135), ('@平安新津', 133), ('@王思聪', 131), ('@瞎蹦跶乱跳脚', 131), ('@演的你亲妈不认识', 131), ('@清华带学', 125), ('@药水哥ss', 120), ('@扫黄打非', 119), ('@鲵妹呀', 118), ('@共青团', 117), ('@浦家小爷', 112), ('@吐槽鬼', 111), ('@法师释空明', 110), ('@你', 109), ('@真主中文', 108), ('@臭道士洪洗象', 107), ('@范冰冰', 106), ('@在下萝莉控ii', 105), ('@释迦牟尼法师', 104), ('@火星包up', 104), ('@吴亦凡Kris全球后援会', 103), ('@9bishi', 102), ('@蔡徐坤粉丝团官微', 101), ('@Asuka的男朋友', 101), ('@公安部打四黑除四害', 100), ('@女孩就是矫情', 100), ('@平安保险', 98), ('@吴亦凡微吧', 97), ('@我是你的女马', 97), ('@不2不叫周淑怡', 96), ('@吴亦凡吧-KrisBar', 94), ('@吴亦凡kris粉丝后援会', 94), ('@新华社中国', 94), ('@KriSpace吴亦凡空间站', 93), ('@吴亦凡粉丝中文网', 93), ('@Mr_吴亦凡投票组', 92), ('@KRISoul_吴亦凡灵魂站', 92), ('@快乐的猫生', 92), ('@全世界安利蔡徐坤', 91), ('@吴亦凡梦想行走团', 89), ('@安排员', 88), ('@准时不早退的炫神', 87), ('@蔡徐坤工作室', 87), ('@平安蔡徐坤', 86), ('@铜绿钾单胞菌', 86), ('@海YF', 85), ('@-WEIIIIIIII', 84), ('@蔡徐坤歌迷会', 82), ('@火箭少女101_杨超越', 82), ('@一顿五碗饭·', 82)]\n"
     ]
    }
   ],
   "source": [
    "query_at = {\"content\": {\"$regex\": \"@\\*(\\S*)\\*@\"}}\n",
    "\n",
    "comments_with_at = comments.find(query_at)\n",
    "print(comments.find(query_at).count())\n",
    "at_count = {}\n",
    "for cmt in comments_with_at:\n",
    "    at_list = re.findall('[^回复@]@\\*(@[^*@]+)\\*@', cmt['content'])\n",
    "\n",
    "    for at in at_list:\n",
    "        if at != '@':\n",
    "            if at in at_count:\n",
    "                at_count[at] += 1\n",
    "            else:\n",
    "                at_count[at] = 1\n",
    "\n",
    "at_count_sort = sorted(at_count.items(), key=lambda item: int(item[1]), reverse=True)\n",
    "print(at_count_sort[:100])"
   ]
  },
  {
   "cell_type": "code",
   "execution_count": 7,
   "metadata": {
    "ExecuteTime": {
     "end_time": "2019-08-25T08:16:18.127558Z",
     "start_time": "2019-08-25T08:16:12.054257Z"
    }
   },
   "outputs": [
    {
     "name": "stdout",
     "output_type": "stream",
     "text": [
      "399061\n",
      "[('[马头]', 113430), ('[狗]', 67205), ('[赛马]', 45249), ('[啤酒]', 44673), ('[爷爷]', 23753), ('[毛毛虫]', 20341), ('[强]', 19579), ('[拍卖]', 13586), ('[8]', 12304), ('[婴儿]', 11694), ('[母鸡]', 11633), ('[看看]', 11627), ('[火焰]', 9517), ('[手掌]', 8590), ('[日本]', 8122), ('[爱心]', 7854), ('[猫咪]', 7522), ('[奶牛]', 7053), ('[奖杯]', 6123), ('[大便]', 5668), ('[汉堡]', 5465), ('[盖饭]', 5288), ('[张嘴]', 4485), ('[幽灵]', 4430), ('[台球]', 4384), ('[小鸟]', 4327), ('[打针]', 4129), ('[卡拉ok]', 4119), ('[热带鱼]', 3819), ('[祈祷]', 3775), ('[家]', 3661), ('[药丸]', 3648), ('[中国]', 3542), ('[鱼]', 3498), ('[足球]', 3155), ('[太開心]', 3054), ('[无]', 3009), ('[猴子]', 2923), ('[青蛙]', 2923), ('[熊]', 2886), ('[4]', 2853), ('[1]', 2641), ('[奶奶]', 2622), ('[篮球]', 2564), ('[老鼠]', 2247), ('[有]', 2167), ('[男孩]', 2117), ('[樱花]', 2076), ('[红中]', 1991), ('[大象]', 1965), ('[苹果]', 1929), ('[大叔]', 1919), ('[蛇]', 1770), ('[卡门]', 1756), ('[老虎]', 1629), ('[德国]', 1616), ('[美国]', 1484), ('[绿茶]', 1454), ('[星星]', 1451), ('[鼻子]', 1354), ('[阿姨]', 1286), ('[得]', 1208), ('[帆船]', 1201), ('[鲸鱼]', 1161), ('[水滴]', 1084), ('[手枪]', 1079), ('[大哭]', 1048), ('[锁住]', 1046), ('[2]', 967), ('[給力]', 948), ('[闪电]', 918), ('[眼泪]', 913), ('[小汽车]', 842), ('[游轮]', 807), ('[no]', 803), ('[耳朵]', 774), ('[加油]', 755), ('[好]', 744), ('[冲浪]', 731), ('[米饭]', 717), ('[圈]', 690), ('[瑜伽一]', 680), ('[5]', 665), ('[绵羊]', 651), ('[上]', 651), ('[emoji]', 650), ('[小嘴]', 648), ('[皮鞋]', 641), ('[0]', 620), ('[面条]', 598), ('[女孩]', 595), ('[红灯]', 592), ('[9]', 574), ('[开心]', 546), ('[强壮]', 532), ('[星光]', 531), ('[b]', 509), ('[叉]', 505), ('[绿心]', 475), ('[iphone]', 461)]\n"
     ]
    }
   ],
   "source": [
    "query_emoji_with_bracket = {\"content\": {\"$regex\": \"\\[\\S*?\\]\"}}\n",
    "\n",
    "comments_with_emoji_with_bracket = comments.find(query_emoji_with_bracket)\n",
    "print(comments.find(query_emoji_with_bracket).count())\n",
    "\n",
    "emoji_with_bracket_count = {}\n",
    "for cmt in comments_with_emoji_with_bracket:\n",
    "    emoji_with_bracket_list = re.findall('\\[\\S*?\\]', cmt['content'])\n",
    "\n",
    "    for emoji_with_bracket in emoji_with_bracket_list:\n",
    "        if emoji_with_bracket in emoji_with_bracket_count:\n",
    "            emoji_with_bracket_count[emoji_with_bracket] += 1\n",
    "        else:\n",
    "            emoji_with_bracket_count[emoji_with_bracket] = 1\n",
    "\n",
    "\n",
    "emoji_with_bracket_count_sort = sorted(emoji_with_bracket_count.items(), key=lambda item: int(item[1]), reverse=True)\n",
    "print(emoji_with_bracket_count_sort[:100])"
   ]
  },
  {
   "cell_type": "code",
   "execution_count": 8,
   "metadata": {
    "ExecuteTime": {
     "end_time": "2019-08-25T08:25:48.720441Z",
     "start_time": "2019-08-25T08:16:18.130577Z"
    }
   },
   "outputs": [
    {
     "name": "stdout",
     "output_type": "stream",
     "text": [
      "[('🌶️', 9567), ('🍋', 8322), ('🐲', 7271), ('🌶', 5444), ('🐢', 5161), ('🐂', 5128), ('💧', 4215), ('🐝', 3584), ('👅', 3427), ('⭐', 1639), ('❓', 1576), ('🍐', 1539), ('🚪', 1358), ('🤓', 1291), ('⚪', 1144), ('🙋', 1029), ('➕', 992), ('✝️', 966), ('🐈', 898), ('🔪', 872), ('🐉', 855), ('♂️', 850), ('🦐', 812), ('♂', 779), ('🦄', 718), ('🔟', 592), ('🎣', 570), ('♀️', 564), ('🌞', 546), ('🤗', 527), ('🙃', 483), ('\\U0001f92e', 481), ('🍹', 470), ('❄️', 439), ('🉑️', 417), ('🍯', 410), ('🐜', 383), ('🦆', 368), ('👁', 350), ('💥', 329), ('🤺', 322), ('⚪️', 320), ('⭐️', 317), ('🕊', 297), ('🥚', 292), ('🐓', 287), ('🌲', 279), ('🔘', 277), ('🕯️', 273), ('🦄️', 257), ('🕯', 240), ('💯', 236), ('🏇', 236), ('👬', 231), ('🕳️', 228), ('🎹', 225), ('👞', 225), ('🙈', 222), ('🦍', 222), ('👓', 221), ('🦅', 215), ('👪', 214), ('🦈', 210), ('☠️', 204), ('💲', 185), ('❄', 180), ('🤢', 180), ('🖐', 179), ('🌳', 172), ('🐊', 170), ('🐏', 170), ('🛏️', 169), ('♀', 166), ('🙊', 163), ('🦁', 161), ('📜', 159), ('🍬', 158), ('👖', 157), ('🍌', 151), ('🌧️', 151), ('\\U0001f9d2', 148), ('🔗', 148), ('🦌', 148), ('🙋🏻', 148), ('🐄', 148), ('\\U0001f9e0', 147), ('🤔', 145), ('🍑', 145), ('🐕', 143), ('🤖', 141), ('🏡', 139), ('⌚️', 137), ('🍄', 136), ('🍼', 134), ('🦁️', 134), ('🙉', 134), ('🌬', 133), ('😯', 132), ('🌱', 132), ('🍏', 132)]\n"
     ]
    }
   ],
   "source": [
    "comments_with_emoji = comments.find()\n",
    "emoji_count={}\n",
    "\n",
    "for cmt in comments.find():\n",
    "    emoji_count=merge_two_dicts(emoji_count, count_emoji(cmt['content'],flags))\n",
    "    \n",
    "emoji_count_sort = sorted(emoji_count.items(), key=lambda item: int(item[1]), reverse=True)\n",
    "print(emoji_count_sort[:100])"
   ]
  },
  {
   "cell_type": "code",
   "execution_count": 9,
   "metadata": {
    "ExecuteTime": {
     "end_time": "2019-08-25T08:25:48.733918Z",
     "start_time": "2019-08-25T08:25:48.722435Z"
    }
   },
   "outputs": [
    {
     "data": {
      "text/plain": [
       "b'\\xf0\\x9f\\x8d\\x8b'"
      ]
     },
     "execution_count": 9,
     "metadata": {},
     "output_type": "execute_result"
    }
   ],
   "source": [
    "emoji_count_sort[1][0].encode()"
   ]
  },
  {
   "cell_type": "code",
   "execution_count": null,
   "metadata": {},
   "outputs": [],
   "source": []
  }
 ],
 "metadata": {
  "anaconda-cloud": {},
  "kernelspec": {
   "display_name": "web-crawl",
   "language": "python",
   "name": "web-crawl"
  },
  "language_info": {
   "codemirror_mode": {
    "name": "ipython",
    "version": 3
   },
   "file_extension": ".py",
   "mimetype": "text/x-python",
   "name": "python",
   "nbconvert_exporter": "python",
   "pygments_lexer": "ipython3",
   "version": "3.6.8"
  },
  "varInspector": {
   "cols": {
    "lenName": 16,
    "lenType": 16,
    "lenVar": 40
   },
   "kernels_config": {
    "python": {
     "delete_cmd_postfix": "",
     "delete_cmd_prefix": "del ",
     "library": "var_list.py",
     "varRefreshCmd": "print(var_dic_list())"
    },
    "r": {
     "delete_cmd_postfix": ") ",
     "delete_cmd_prefix": "rm(",
     "library": "var_list.r",
     "varRefreshCmd": "cat(var_dic_list()) "
    }
   },
   "types_to_exclude": [
    "module",
    "function",
    "builtin_function_or_method",
    "instance",
    "_Feature"
   ],
   "window_display": false
  }
 },
 "nbformat": 4,
 "nbformat_minor": 1
}
