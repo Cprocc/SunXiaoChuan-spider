{
 "cells": [
  {
   "cell_type": "code",
   "execution_count": 1,
   "metadata": {
    "ExecuteTime": {
     "end_time": "2019-05-13T11:11:33.661941Z",
     "start_time": "2019-05-13T11:11:33.281856Z"
    },
    "collapsed": true
   },
   "outputs": [],
   "source": [
    "import pymongo\n",
    "import re\n",
    "import numpy as np\n",
    "\n",
    "\n",
    "client = pymongo.MongoClient(host='localhost', port=27017)\n",
    "sina = client['Sina']\n",
    "comments = sina['Comments']"
   ]
  },
  {
   "cell_type": "code",
   "execution_count": 2,
   "metadata": {
    "ExecuteTime": {
     "end_time": "2019-05-13T11:11:33.810974Z",
     "start_time": "2019-05-13T11:11:33.808973Z"
    },
    "collapsed": true
   },
   "outputs": [],
   "source": [
    "#TODO:看图片评论还有没有"
   ]
  },
  {
   "cell_type": "code",
   "execution_count": 3,
   "metadata": {
    "ExecuteTime": {
     "end_time": "2019-05-13T11:11:34.172055Z",
     "start_time": "2019-05-13T11:11:34.169180Z"
    },
    "collapsed": true
   },
   "outputs": [],
   "source": [
    "# 删除回复前缀 re.sub(\"回复@\\S+:\", '',s)\n",
    "# 删除表情     re.sub(\"\\[\\S*?\\]\", '',s)\n",
    "# 删除@        re.sub(\"@\\*(\\S*)\\*@\", '',s)\n",
    "# 找@         [^回复@]@\\*(@[^*@]+)\\*@\n",
    "# 删黄图哥    if s == '图片评论' or s == '图片评论 ':\n",
    "#                 s = ''"
   ]
  },
  {
   "cell_type": "code",
   "execution_count": 4,
   "metadata": {
    "ExecuteTime": {
     "end_time": "2019-05-13T11:11:46.699924Z",
     "start_time": "2019-05-13T11:11:34.592149Z"
    },
    "collapsed": true
   },
   "outputs": [],
   "source": [
    "comment_data=[]\n",
    "for comment in comments.find():\n",
    "    comment_data.append(comment['content'])"
   ]
  },
  {
   "cell_type": "code",
   "execution_count": 5,
   "metadata": {
    "ExecuteTime": {
     "end_time": "2019-05-13T11:11:55.959147Z",
     "start_time": "2019-05-13T11:11:47.424088Z"
    },
    "collapsed": true
   },
   "outputs": [],
   "source": [
    "for i in range(len(comment_data)):\n",
    "    s = comment_data[i]\n",
    "    s = re.sub(\"回复@\\S+:\", '', s)\n",
    "    s = re.sub(\"\\[\\S*?\\]\", '', s)\n",
    "    s = re.sub(\"@\\*(\\S*)\\*@\", '', s)\n",
    "    if s == '图片评论' or s == '图片评论 ':\n",
    "        s = ''\n",
    "    comment_data[i] = s"
   ]
  },
  {
   "cell_type": "code",
   "execution_count": 6,
   "metadata": {
    "ExecuteTime": {
     "end_time": "2019-05-13T11:11:56.464261Z",
     "start_time": "2019-05-13T11:11:56.454260Z"
    }
   },
   "outputs": [
    {
     "data": {
      "text/plain": [
       "1886147"
      ]
     },
     "execution_count": 6,
     "metadata": {},
     "output_type": "execute_result"
    }
   ],
   "source": [
    "len(comment_data)"
   ]
  },
  {
   "cell_type": "code",
   "execution_count": 7,
   "metadata": {
    "ExecuteTime": {
     "end_time": "2019-05-13T11:11:57.137410Z",
     "start_time": "2019-05-13T11:11:56.961372Z"
    },
    "collapsed": true
   },
   "outputs": [],
   "source": [
    "comment_data_delete_empty = [i for i in comment_data if i != '']"
   ]
  },
  {
   "cell_type": "code",
   "execution_count": 8,
   "metadata": {
    "ExecuteTime": {
     "end_time": "2019-05-13T11:11:58.097626Z",
     "start_time": "2019-05-13T11:11:58.093626Z"
    }
   },
   "outputs": [
    {
     "data": {
      "text/plain": [
       "1768439"
      ]
     },
     "execution_count": 8,
     "metadata": {},
     "output_type": "execute_result"
    }
   ],
   "source": [
    "len(comment_data_delete_empty)"
   ]
  },
  {
   "cell_type": "code",
   "execution_count": 9,
   "metadata": {
    "ExecuteTime": {
     "end_time": "2019-05-13T11:12:22.361099Z",
     "start_time": "2019-05-13T11:11:59.068843Z"
    },
    "collapsed": true
   },
   "outputs": [],
   "source": [
    "np.savez_compressed('comment_cleaned.npz',np.array(comment_data_delete_empty))"
   ]
  },
  {
   "cell_type": "code",
   "execution_count": 38,
   "metadata": {
    "ExecuteTime": {
     "end_time": "2019-05-13T06:31:34.919334Z",
     "start_time": "2019-05-13T06:31:34.665907Z"
    },
    "collapsed": true
   },
   "outputs": [],
   "source": [
    "i=0\n",
    "for c in comment_data:\n",
    "    if '图片评论' in c:\n",
    "        i+=1"
   ]
  },
  {
   "cell_type": "code",
   "execution_count": 39,
   "metadata": {
    "ExecuteTime": {
     "end_time": "2019-05-13T06:31:34.926245Z",
     "start_time": "2019-05-13T06:31:34.921256Z"
    }
   },
   "outputs": [
    {
     "data": {
      "text/plain": [
       "268"
      ]
     },
     "execution_count": 39,
     "metadata": {},
     "output_type": "execute_result"
    }
   ],
   "source": [
    "i"
   ]
  },
  {
   "cell_type": "code",
   "execution_count": null,
   "metadata": {
    "collapsed": true
   },
   "outputs": [],
   "source": []
  }
 ],
 "metadata": {
  "anaconda-cloud": {},
  "kernelspec": {
   "display_name": "web-crawl",
   "language": "python",
   "name": "web-crawl"
  },
  "language_info": {
   "codemirror_mode": {
    "name": "ipython",
    "version": 3
   },
   "file_extension": ".py",
   "mimetype": "text/x-python",
   "name": "python",
   "nbconvert_exporter": "python",
   "pygments_lexer": "ipython3",
   "version": "3.6.8"
  },
  "varInspector": {
   "cols": {
    "lenName": 16,
    "lenType": 16,
    "lenVar": 40
   },
   "kernels_config": {
    "python": {
     "delete_cmd_postfix": "",
     "delete_cmd_prefix": "del ",
     "library": "var_list.py",
     "varRefreshCmd": "print(var_dic_list())"
    },
    "r": {
     "delete_cmd_postfix": ") ",
     "delete_cmd_prefix": "rm(",
     "library": "var_list.r",
     "varRefreshCmd": "cat(var_dic_list()) "
    }
   },
   "types_to_exclude": [
    "module",
    "function",
    "builtin_function_or_method",
    "instance",
    "_Feature"
   ],
   "window_display": false
  }
 },
 "nbformat": 4,
 "nbformat_minor": 2
}
